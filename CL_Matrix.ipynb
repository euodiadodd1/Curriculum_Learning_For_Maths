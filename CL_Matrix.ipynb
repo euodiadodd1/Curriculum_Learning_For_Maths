{
  "nbformat": 4,
  "nbformat_minor": 0,
  "metadata": {
    "colab": {
      "name": "CL_Matrix.ipynb",
      "provenance": [],
      "collapsed_sections": [],
      "authorship_tag": "ABX9TyNapza2jCThB0m2stfTYGMj",
      "include_colab_link": true
    },
    "kernelspec": {
      "name": "python3",
      "display_name": "Python 3"
    },
    "language_info": {
      "name": "python"
    },
    "accelerator": "GPU"
  },
  "cells": [
    {
      "cell_type": "markdown",
      "metadata": {
        "id": "view-in-github",
        "colab_type": "text"
      },
      "source": [
        "<a href=\"https://colab.research.google.com/github/euodiadodd1/Curriculum_Learning_For_Maths/blob/main/CL_Matrix.ipynb\" target=\"_parent\"><img src=\"https://colab.research.google.com/assets/colab-badge.svg\" alt=\"Open In Colab\"/></a>"
      ]
    },
    {
      "cell_type": "code",
      "execution_count": 1,
      "metadata": {
        "id": "H-0enkBRm53V"
      },
      "outputs": [],
      "source": [
        "import gzip\n",
        "import shutil\n",
        "with gzip.open('/content/v05.gz', 'rb') as f_in:\n",
        "    with open('v05.txt', 'wb') as f_out:\n",
        "        shutil.copyfileobj(f_in, f_out)"
      ]
    },
    {
      "cell_type": "code",
      "source": [
        "import pandas as pd\n",
        "import numpy as np\n",
        "import ast\n",
        "\n",
        "## PROCESS KREUSER SKARKE DATA\n",
        "\n",
        "df = pd.read_csv(\"v05.txt\", header=None)\n",
        "data = df[0].str.split('   ', expand=True)\n",
        "\n",
        "for i, x in enumerate(data[4]):\n",
        "    if x and len(x.split('  ')) > 1:\n",
        "      #print(x.split('  ')) \n",
        "      sl = [a for a in x.split('  ') if a]\n",
        "      if len(sl) > 1:\n",
        "        data[4][i] = sl[0]\n",
        "      else:\n",
        "        data[4][i] = sl[0]\n",
        "    if x and len(x.split(' ')) > 1:\n",
        "      #print(x.split('  ')) \n",
        "      sl = [a for a in x.split(' ') if a]\n",
        "      if len(sl) > 1:\n",
        "        data[4][i] = sl[0]\n",
        "      else:\n",
        "        data[4][i] = sl[0]\n",
        "\n",
        "for i, x in enumerate(data[3]):\n",
        "    if x and len(x.split(' ')) > 1:\n",
        "      #print(x.split('  ')) \n",
        "      sl = [a for a in x.split(' ') if a]\n",
        "      if len(sl) > 1:\n",
        "        data[3][i] = sl[0]\n",
        "        data[4][i] = sl[1]\n",
        "      else:\n",
        "        data[3][i] = sl[0]\n",
        "\n",
        "for i, x in enumerate(data[2]):\n",
        "    if x and len(x.split('  ')) > 1:\n",
        "      print(i, x.split('  ')) \n",
        "      sl = [a for a in x.split('  ') if a]\n",
        "      if len(sl) > 1:\n",
        "        data[2][i] = sl[0]\n",
        "        data[3][i] = sl[1]\n",
        "\n",
        "\n",
        "data = data.drop(5, axis=1)\n",
        "data = data.drop(0, axis=1)\n",
        "\n",
        "\n",
        "for i, x in data.iterrows():\n",
        "  if i%5 == 0:\n",
        "    data = data.drop(i, axis=0)\n",
        "\n",
        "data = data.reset_index(drop=True)\n",
        "\n",
        "split = np.split(data[:6244], data.shape[0]//4)\n",
        "arr = np.asarray([np.asarray(x).astype(int) for x in split])\n",
        "\n",
        "labels = df[1].dropna().reset_index(drop=True)\n",
        "print(labels)\n",
        "for i, x in enumerate(labels):\n",
        "  ls = x.split(' ')\n",
        "  labels[i] = int(ast.literal_eval(ls[1])[0])\n",
        "\n"
      ],
      "metadata": {
        "id": "9JY42826HPJW",
        "colab": {
          "base_uri": "https://localhost:8080/"
        },
        "outputId": "bd681f81-0184-4ec8-926a-5cd8e11c6372"
      },
      "execution_count": 2,
      "outputs": [
        {
          "output_type": "stream",
          "name": "stdout",
          "text": [
            "38 ['0', '10']\n",
            "0           1 [40]\n",
            "1         21 [-40]\n",
            "2          1 [200]\n",
            "3       101 [-200]\n",
            "4          1 [204]\n",
            "           ...    \n",
            "1556     167 [-96]\n",
            "1557     137 [240]\n",
            "1558    257 [-240]\n",
            "1559       143 [0]\n",
            "1560       251 [0]\n",
            "Name: 1, Length: 1561, dtype: object\n"
          ]
        }
      ]
    },
    {
      "cell_type": "code",
      "source": [
        "## Split labels into 10 groups of increasing difficulty\n",
        "label_bins = pd.cut(labels, 10, labels=range(10))\n",
        "print(label_bins)\n"
      ],
      "metadata": {
        "colab": {
          "base_uri": "https://localhost:8080/"
        },
        "id": "XK6OqMC7jtw-",
        "outputId": "8d96fdb6-5d11-4c2e-de3b-84ac80c4a7e8"
      },
      "execution_count": 3,
      "outputs": [
        {
          "output_type": "stream",
          "name": "stdout",
          "text": [
            "0       5\n",
            "1       4\n",
            "2       6\n",
            "3       3\n",
            "4       6\n",
            "       ..\n",
            "1556    4\n",
            "1557    6\n",
            "1558    3\n",
            "1559    4\n",
            "1560    4\n",
            "Name: 1, Length: 1561, dtype: category\n",
            "Categories (10, int64): [0 < 1 < 2 < 3 ... 6 < 7 < 8 < 9]\n"
          ]
        }
      ]
    },
    {
      "cell_type": "code",
      "execution_count": 4,
      "metadata": {
        "id": "Mm1Kn9YMaPc1"
      },
      "outputs": [],
      "source": [
        "import torch\n",
        "import torchvision\n",
        "import torchvision.transforms as transforms\n",
        "import numpy as np\n",
        "from torch.utils.data import Dataset, DataLoader\n",
        "from sklearn import svm\n",
        "from sklearn import metrics\n"
      ]
    },
    {
      "cell_type": "code",
      "source": [
        "from torch.utils.data import Dataset\n",
        "from natsort import natsorted\n",
        "from torchvision import datasets, transforms\n",
        "from sklearn.decomposition import PCA\n",
        "from sklearn import preprocessing\n",
        "\n",
        "class CustomDataset(Dataset):\n",
        "  def __init__(self, data, labels):\n",
        "    self.data = data\n",
        "    self.labels = labels\n",
        "    self.transform = transforms.Compose([transforms.ToTensor()])\n",
        "\n",
        "    #self.transform = transforms.Compose([transforms.ToTensor()])\n",
        "\n",
        "  def __len__(self):\n",
        "    return len(self.data)\n",
        "\n",
        "  def __getitem__(self, idx):\n",
        "    data = self.data[idx]\n",
        "    labels = self.labels[idx]\n",
        "\n",
        "\n",
        "\n",
        "    if idx == self.__len__():  \n",
        "            raise IndexError  \n",
        "    #print(d.shape,l.shape)\n",
        "    return self.transform(data), (labels)\n"
      ],
      "metadata": {
        "id": "eIAHB0dxPiZW"
      },
      "execution_count": null,
      "outputs": []
    },
    {
      "cell_type": "code",
      "source": [
        "import numpy as np\n",
        "from sklearn.ensemble import RandomForestRegressor\n",
        "\n",
        "## GENERATING AND PROCESSING DATASET OF MATRICES\n",
        "\n",
        "## Pad matrices to the dimensions of the largest one\n",
        "def to_shape(a, shape):\n",
        "    y_, x_ = shape\n",
        "    y, x = a.shape\n",
        "    y_pad = (y_-y)\n",
        "    x_pad = (x_-x)\n",
        "    return np.pad(a,((y_pad//2, y_pad//2 + y_pad%2), \n",
        "                     (x_pad//2, x_pad//2 + x_pad%2)),\n",
        "                  mode = 'constant')\n",
        "\n",
        "\n",
        "num_samples = 5000\n",
        "matrices = []\n",
        "matrix_sizes = [25,50,100]\n",
        "matrix_2  = np.random.uniform(-1.0, 1.0, (num_samples,matrix_sizes[0],matrix_sizes[0]))\n",
        "matrix_5  = np.random.uniform(-1.0, 1.0, (num_samples,matrix_sizes[1],matrix_sizes[1]))\n",
        "matrix_10 = np.random.uniform(-1.0, 1.0, (num_samples,matrix_sizes[2],matrix_sizes[2]))\n",
        "\n",
        "#print(matrix_2[0].shape)\n",
        "matrix_2 = [to_shape(x, (matrix_sizes[2],matrix_sizes[2])) for x in matrix_2]\n",
        "matrix_5 = [to_shape(x, (matrix_sizes[2],matrix_sizes[2])) for x in matrix_5]\n",
        "\n",
        "matrices.append(matrix_2)\n",
        "matrices.append(matrix_5)\n",
        "matrices.append(matrix_10)\n",
        "\n",
        "sizes = np.concatenate([[i]*num_samples for i in matrix_sizes])\n",
        "\n",
        "matrices = np.concatenate(matrices)\n",
        "print(matrices.shape)\n",
        "BATCH_SIZE = len(matrices)\n",
        "\n",
        "labels = np.asarray([np.linalg.eig(m)[0] for m in matrices])\n",
        "print(labels.shape)\n",
        "\n"
      ],
      "metadata": {
        "id": "gnb88TUaNWN_",
        "colab": {
          "base_uri": "https://localhost:8080/",
          "height": 432
        },
        "outputId": "4f4f52e1-e38f-4a6b-9558-9129a34fba15"
      },
      "execution_count": null,
      "outputs": [
        {
          "output_type": "stream",
          "name": "stdout",
          "text": [
            "(15000, 100, 100)\n"
          ]
        },
        {
          "output_type": "error",
          "ename": "KeyboardInterrupt",
          "evalue": "ignored",
          "traceback": [
            "\u001b[0;31m---------------------------------------------------------------------------\u001b[0m",
            "\u001b[0;31mKeyboardInterrupt\u001b[0m                         Traceback (most recent call last)",
            "\u001b[0;32m<ipython-input-325-49db69f63820>\u001b[0m in \u001b[0;36m<module>\u001b[0;34m()\u001b[0m\n\u001b[1;32m     36\u001b[0m \u001b[0mBATCH_SIZE\u001b[0m \u001b[0;34m=\u001b[0m \u001b[0mlen\u001b[0m\u001b[0;34m(\u001b[0m\u001b[0mmatrices\u001b[0m\u001b[0;34m)\u001b[0m\u001b[0;34m\u001b[0m\u001b[0;34m\u001b[0m\u001b[0m\n\u001b[1;32m     37\u001b[0m \u001b[0;34m\u001b[0m\u001b[0m\n\u001b[0;32m---> 38\u001b[0;31m \u001b[0mlabels\u001b[0m \u001b[0;34m=\u001b[0m \u001b[0mnp\u001b[0m\u001b[0;34m.\u001b[0m\u001b[0masarray\u001b[0m\u001b[0;34m(\u001b[0m\u001b[0;34m[\u001b[0m\u001b[0mnp\u001b[0m\u001b[0;34m.\u001b[0m\u001b[0mlinalg\u001b[0m\u001b[0;34m.\u001b[0m\u001b[0meig\u001b[0m\u001b[0;34m(\u001b[0m\u001b[0mm\u001b[0m\u001b[0;34m)\u001b[0m\u001b[0;34m[\u001b[0m\u001b[0;36m0\u001b[0m\u001b[0;34m]\u001b[0m \u001b[0;32mfor\u001b[0m \u001b[0mm\u001b[0m \u001b[0;32min\u001b[0m \u001b[0mmatrices\u001b[0m\u001b[0;34m]\u001b[0m\u001b[0;34m)\u001b[0m\u001b[0;34m\u001b[0m\u001b[0;34m\u001b[0m\u001b[0m\n\u001b[0m\u001b[1;32m     39\u001b[0m \u001b[0mprint\u001b[0m\u001b[0;34m(\u001b[0m\u001b[0mlabels\u001b[0m\u001b[0;34m.\u001b[0m\u001b[0mshape\u001b[0m\u001b[0;34m)\u001b[0m\u001b[0;34m\u001b[0m\u001b[0;34m\u001b[0m\u001b[0m\n\u001b[1;32m     40\u001b[0m \u001b[0;34m\u001b[0m\u001b[0m\n",
            "\u001b[0;32m<ipython-input-325-49db69f63820>\u001b[0m in \u001b[0;36m<listcomp>\u001b[0;34m(.0)\u001b[0m\n\u001b[1;32m     36\u001b[0m \u001b[0mBATCH_SIZE\u001b[0m \u001b[0;34m=\u001b[0m \u001b[0mlen\u001b[0m\u001b[0;34m(\u001b[0m\u001b[0mmatrices\u001b[0m\u001b[0;34m)\u001b[0m\u001b[0;34m\u001b[0m\u001b[0;34m\u001b[0m\u001b[0m\n\u001b[1;32m     37\u001b[0m \u001b[0;34m\u001b[0m\u001b[0m\n\u001b[0;32m---> 38\u001b[0;31m \u001b[0mlabels\u001b[0m \u001b[0;34m=\u001b[0m \u001b[0mnp\u001b[0m\u001b[0;34m.\u001b[0m\u001b[0masarray\u001b[0m\u001b[0;34m(\u001b[0m\u001b[0;34m[\u001b[0m\u001b[0mnp\u001b[0m\u001b[0;34m.\u001b[0m\u001b[0mlinalg\u001b[0m\u001b[0;34m.\u001b[0m\u001b[0meig\u001b[0m\u001b[0;34m(\u001b[0m\u001b[0mm\u001b[0m\u001b[0;34m)\u001b[0m\u001b[0;34m[\u001b[0m\u001b[0;36m0\u001b[0m\u001b[0;34m]\u001b[0m \u001b[0;32mfor\u001b[0m \u001b[0mm\u001b[0m \u001b[0;32min\u001b[0m \u001b[0mmatrices\u001b[0m\u001b[0;34m]\u001b[0m\u001b[0;34m)\u001b[0m\u001b[0;34m\u001b[0m\u001b[0;34m\u001b[0m\u001b[0m\n\u001b[0m\u001b[1;32m     39\u001b[0m \u001b[0mprint\u001b[0m\u001b[0;34m(\u001b[0m\u001b[0mlabels\u001b[0m\u001b[0;34m.\u001b[0m\u001b[0mshape\u001b[0m\u001b[0;34m)\u001b[0m\u001b[0;34m\u001b[0m\u001b[0;34m\u001b[0m\u001b[0m\n\u001b[1;32m     40\u001b[0m \u001b[0;34m\u001b[0m\u001b[0m\n",
            "\u001b[0;32m<__array_function__ internals>\u001b[0m in \u001b[0;36meig\u001b[0;34m(*args, **kwargs)\u001b[0m\n",
            "\u001b[0;32m/usr/local/lib/python3.7/dist-packages/numpy/linalg/linalg.py\u001b[0m in \u001b[0;36meig\u001b[0;34m(a)\u001b[0m\n\u001b[1;32m   1321\u001b[0m         _raise_linalgerror_eigenvalues_nonconvergence)\n\u001b[1;32m   1322\u001b[0m     \u001b[0msignature\u001b[0m \u001b[0;34m=\u001b[0m \u001b[0;34m'D->DD'\u001b[0m \u001b[0;32mif\u001b[0m \u001b[0misComplexType\u001b[0m\u001b[0;34m(\u001b[0m\u001b[0mt\u001b[0m\u001b[0;34m)\u001b[0m \u001b[0;32melse\u001b[0m \u001b[0;34m'd->DD'\u001b[0m\u001b[0;34m\u001b[0m\u001b[0;34m\u001b[0m\u001b[0m\n\u001b[0;32m-> 1323\u001b[0;31m     \u001b[0mw\u001b[0m\u001b[0;34m,\u001b[0m \u001b[0mvt\u001b[0m \u001b[0;34m=\u001b[0m \u001b[0m_umath_linalg\u001b[0m\u001b[0;34m.\u001b[0m\u001b[0meig\u001b[0m\u001b[0;34m(\u001b[0m\u001b[0ma\u001b[0m\u001b[0;34m,\u001b[0m \u001b[0msignature\u001b[0m\u001b[0;34m=\u001b[0m\u001b[0msignature\u001b[0m\u001b[0;34m,\u001b[0m \u001b[0mextobj\u001b[0m\u001b[0;34m=\u001b[0m\u001b[0mextobj\u001b[0m\u001b[0;34m)\u001b[0m\u001b[0;34m\u001b[0m\u001b[0;34m\u001b[0m\u001b[0m\n\u001b[0m\u001b[1;32m   1324\u001b[0m \u001b[0;34m\u001b[0m\u001b[0m\n\u001b[1;32m   1325\u001b[0m     \u001b[0;32mif\u001b[0m \u001b[0;32mnot\u001b[0m \u001b[0misComplexType\u001b[0m\u001b[0;34m(\u001b[0m\u001b[0mt\u001b[0m\u001b[0;34m)\u001b[0m \u001b[0;32mand\u001b[0m \u001b[0mall\u001b[0m\u001b[0;34m(\u001b[0m\u001b[0mw\u001b[0m\u001b[0;34m.\u001b[0m\u001b[0mimag\u001b[0m \u001b[0;34m==\u001b[0m \u001b[0;36m0.0\u001b[0m\u001b[0;34m)\u001b[0m\u001b[0;34m:\u001b[0m\u001b[0;34m\u001b[0m\u001b[0;34m\u001b[0m\u001b[0m\n",
            "\u001b[0;31mKeyboardInterrupt\u001b[0m: "
          ]
        }
      ]
    },
    {
      "cell_type": "code",
      "execution_count": 5,
      "metadata": {
        "id": "0Cr5bdOxaav-"
      },
      "outputs": [],
      "source": [
        "class DatasetMaker(Dataset):\n",
        "    def __init__(self, datasets):\n",
        "        \"\"\"\n",
        "        datasets: a list of get_class_i outputs, i.e. a list of list of images for selected classes\n",
        "        \"\"\"\n",
        "        self.datasets = datasets\n",
        "        self.lengths = [len(d) for d in self.datasets]\n",
        "        #self.transformFunc = transformFunc\n",
        "\n",
        "    def __getitem__(self, i):\n",
        "        class_label, index_wrt_class = self.index_of_which_bin(self.lengths, i)\n",
        "        img = self.datasets[class_label][index_wrt_class]\n",
        "        #img = self.transformFunc(img)\n",
        "        return img, class_label\n",
        "\n",
        "    def __len__(self):\n",
        "        return sum(self.lengths)\n",
        "\n",
        "    def index_of_which_bin(self, bin_sizes, absolute_index, verbose=False):\n",
        "        \"\"\"\n",
        "        Given the absolute index, returns which bin it falls in and which element of that bin it corresponds to.\n",
        "        \"\"\"\n",
        "        # Which class/bin does i fall into?\n",
        "        accum = np.add.accumulate(bin_sizes)\n",
        "        if verbose:\n",
        "            print(\"accum =\", accum)\n",
        "        bin_index = len(np.argwhere(accum <= absolute_index))\n",
        "        if verbose:\n",
        "            print(\"class_label =\", bin_index)\n",
        "        # Which element of the fallent class/bin does i correspond to?\n",
        "        index_wrt_class = absolute_index - np.insert(accum, 0, 0)[bin_index]\n",
        "        if verbose:\n",
        "            print(\"index_wrt_class =\", index_wrt_class)\n",
        "\n",
        "        return bin_index, index_wrt_class\n"
      ]
    },
    {
      "cell_type": "code",
      "execution_count": 6,
      "metadata": {
        "id": "u6bGLddsaVc3",
        "colab": {
          "base_uri": "https://localhost:8080/"
        },
        "outputId": "b93ba27f-905f-4fa4-97d1-9f3a5dd1dae8"
      },
      "outputs": [
        {
          "output_type": "stream",
          "name": "stdout",
          "text": [
            "313\n"
          ]
        }
      ],
      "source": [
        "## Adapted from https://gist.github.com/Miladiouss/6ba0876f0e2b65d0178be7274f61ad2f\n",
        "# Separating trainset/testset data/label\n",
        "\n",
        "split = 0.8\n",
        "split_idx = int(split*len(labels))\n",
        "\n",
        "## Switch to KS data\n",
        "matrices = arr\n",
        "sizes = label_bins\n",
        "matrix_sizes = range(10)\n",
        "\n",
        "x_train, y_train, sizes_train = matrices[:split_idx], labels[:split_idx], sizes[:split_idx]\n",
        "x_test, y_test, sizes_test = matrices[split_idx:], labels[split_idx:], sizes[split_idx:]\n",
        "\n",
        "print(len(sizes_test))\n",
        "#x_test = testset.data\n",
        "#y_test = testset.targets\n",
        "#print(trainset[0])\n",
        "# Define a function to separate CIFAR classes by class index\n",
        "\n",
        "\n",
        "def get_class_i(x, y, i):\n",
        "    \"\"\"\n",
        "    x: trainset.train_data or testset.test_data\n",
        "    y: trainset.train_labels or testset.test_labels\n",
        "    i: class label, a number between 0 to 9\n",
        "    return: x_i\n",
        "    \"\"\"\n",
        "    # Convert to a numpy array\n",
        "    y = np.array(y)\n",
        "    # Locate position of labels that equal to i\n",
        "    pos_i = np.argwhere(y == i)\n",
        "    #print(pos_i)\n",
        "    # Convert the result into a 1-D list\n",
        "    pos_i = list(pos_i[:, 0])\n",
        "    # Collect all data that match the desired label\n",
        "    #print(len(pos_i))\n",
        "    x_i = [x[j] for j in pos_i]\n",
        "\n",
        "\n",
        "    return x_i\n",
        "\n"
      ]
    },
    {
      "cell_type": "code",
      "execution_count": 7,
      "metadata": {
        "id": "U4_juvtTqXuL"
      },
      "outputs": [],
      "source": [
        "def get_sized_datasets(matrix_sizes, sizes_train, sizes_test):\n",
        "  \n",
        "  train = []\n",
        "  test = []\n",
        "  for s in matrix_sizes:\n",
        "    print(s)\n",
        "    train.append(get_class_i(x_train, sizes_train, s))\n",
        "    test.append(get_class_i(x_test, sizes_test, s))\n",
        "\n",
        "  trainset = DatasetMaker(train)\n",
        "  testset = DatasetMaker(test)\n",
        "\n",
        "  # Create datasetLoaders from trainset and testset\n",
        "  trainloader = DataLoader(\n",
        "      trainset, batch_size=len(trainset), shuffle=False)\n",
        "  testloader = DataLoader(\n",
        "      testset, batch_size=len(testset), shuffle=False)\n",
        "  \n",
        "  return trainloader, testloader"
      ]
    },
    {
      "cell_type": "code",
      "execution_count": 8,
      "metadata": {
        "id": "xle_NwivPB3b"
      },
      "outputs": [],
      "source": [
        "import torch\n",
        "import torch.nn as nn\n",
        "import torch.nn.functional as F\n",
        "\n",
        "# Hyperparameters for our network\n",
        "\n",
        "# Build a feed-forward network\n",
        "def make_model(input_size, hidden_sizes):\n",
        "    model = nn.Sequential(#nn.Flatten(),\n",
        "                          \n",
        "                          nn.Linear(input_size, hidden_sizes[0]),\n",
        "                          nn.ReLU(),\n",
        "                          # nn.Linear(hidden_sizes[0], hidden_sizes[1]),\n",
        "                          # nn.ReLU(),\n",
        "                          nn.Flatten(),\n",
        "                          nn.Linear(32, 1)\n",
        "                          \n",
        "                      )\n",
        "    return model\n",
        "                      "
      ]
    },
    {
      "cell_type": "code",
      "execution_count": 9,
      "metadata": {
        "id": "Tjj3r0es8C6a"
      },
      "outputs": [],
      "source": [
        "## Pacing function\n",
        "\n",
        "def data_pacing_function(data_set, batch_increase, increment, starting_percentage, curr_batch, current_pace, batch_size=100):\n",
        "\n",
        "    X_train, y_train = data_set\n",
        "    X_train = torch.unsqueeze(X_train, 1)\n",
        "    #y_train = torch.unsqueeze(y_train, 0)\n",
        "    #print(\"SHAPE\", X_train.shape)\n",
        "    \n",
        "    data_size = X_train.shape[0]\n",
        "    pace = current_pace\n",
        "\n",
        "    if curr_batch % batch_increase == 0:\n",
        "      if curr_batch == 0:\n",
        "        pace = starting_percentage\n",
        "        print(y_train.shape)\n",
        "      else:\n",
        "        pace = min(pace*increment, 1)\n",
        "\n",
        "    pacing_idx = int(np.ceil(pace * data_size))\n",
        "    #print(pacing_idx)\n",
        "\n",
        "    new_X_train = X_train[:pacing_idx, :,:,:]\n",
        "    new_y_train = y_train[:pacing_idx]\n",
        "\n",
        "    return new_X_train, new_y_train, pace\n",
        "\n"
      ]
    },
    {
      "cell_type": "code",
      "execution_count": 10,
      "metadata": {
        "id": "QSo-3DbdRTKD"
      },
      "outputs": [],
      "source": [
        "def get_num_correct(preds, labels):\n",
        "    return preds.argmax(dim=1).eq(labels).sum().item()"
      ]
    },
    {
      "cell_type": "code",
      "execution_count": 11,
      "metadata": {
        "id": "xW0lNto6MTkM"
      },
      "outputs": [],
      "source": [
        "np.random.seed(1)\n",
        "def generate_random_batch(x, y, batch_size):\n",
        "    size_data = x.shape[0]\n",
        "    cur_batch_idxs = np.random.choice(size_data, batch_size, replace=False)\n",
        "    return x[cur_batch_idxs, :, :, :], y[cur_batch_idxs]"
      ]
    },
    {
      "cell_type": "code",
      "execution_count": 12,
      "metadata": {
        "id": "PCtFA7LgnWEV"
      },
      "outputs": [],
      "source": [
        "def evaluate_model(X_img, y_test, model):\n",
        "  accuracy = 0\n",
        "  loss = 0\n",
        "  model.eval()\n",
        "  X_img, y_test = X_img, y_test\n",
        "  with torch.no_grad():\n",
        "    outputs = model(X_img)\n",
        "    #accuracy = get_num_correct(outputs, y_test)/len(y_test)\n",
        "    loss += criterion(outputs, y_test).item()\n",
        "  model.train()\n",
        "  return accuracy, loss/len(y_test)\n"
      ]
    },
    {
      "cell_type": "code",
      "execution_count": 63,
      "metadata": {
        "id": "CVnk49HPJECL"
      },
      "outputs": [],
      "source": [
        "import torch.optim as optim\n",
        "from torch.optim.lr_scheduler import LambdaLR\n",
        "\n",
        "#net = make_model((batch_size,3,32,32), 100)\n",
        "net = make_model(4, [8,16,32])\n",
        "\n",
        "device = torch.device('cuda:0' if torch.cuda.is_available() else 'cpu')\n",
        "\n",
        "net.to(device)\n",
        "\n",
        "criterion = nn.MSELoss()\n",
        "optimizer = optim.SGD(net.parameters(), lr=1e-3)\n",
        "\n",
        "decayRate = 0.91\n",
        "min_lr=1e-3\n",
        "lr_batch_size = 100\n",
        "\n",
        "#scheduler = torch.optim.lr_scheduler.StepLR(optimizer, step_size=lr_batch_size, gamma=decayRate)"
      ]
    },
    {
      "cell_type": "code",
      "source": [
        "from random import sample\n",
        "\n",
        "regime = \"anti\"\n",
        "if regime == \"curriculum\":\n",
        "  order = matrix_sizes\n",
        "elif regime == \"anti\":\n",
        "  order = matrix_sizes[::-1]\n",
        "else:\n",
        "  order = sample(matrix_sizes, len(matrix_sizes))\n",
        "\n",
        "print(order)\n",
        "trainloader, testloader = get_sized_datasets(order, sizes_train, sizes_test)\n"
      ],
      "metadata": {
        "colab": {
          "base_uri": "https://localhost:8080/"
        },
        "id": "OQkE4shDVGeV",
        "outputId": "f2f9711e-cdce-490b-f608-bd9a90f7b374"
      },
      "execution_count": 64,
      "outputs": [
        {
          "output_type": "stream",
          "name": "stdout",
          "text": [
            "range(9, -1, -1)\n",
            "9\n",
            "8\n",
            "7\n",
            "6\n",
            "5\n",
            "4\n",
            "3\n",
            "2\n",
            "1\n",
            "0\n"
          ]
        }
      ]
    },
    {
      "cell_type": "code",
      "source": [
        "train_set = next(iter(trainloader))\n",
        "test_set = next(iter(testloader))\n",
        "\n",
        "X_train, y_train = train_set\n",
        "test_img, test_labels = test_set\n",
        "test_img, test_labels = test_img.to(device).float(), test_labels.to(device).float()\n",
        "#print(X_train.shape[0])\n",
        "\n",
        "print(y_train.shape)"
      ],
      "metadata": {
        "id": "5kmzlPdnoSlc",
        "colab": {
          "base_uri": "https://localhost:8080/"
        },
        "outputId": "b8a0d800-7f42-4414-e92d-085d0f749950"
      },
      "execution_count": 65,
      "outputs": [
        {
          "output_type": "stream",
          "name": "stdout",
          "text": [
            "torch.Size([1248])\n"
          ]
        }
      ]
    },
    {
      "cell_type": "code",
      "source": [
        "results = []\n"
      ],
      "metadata": {
        "id": "sqhKRwc-PBKt"
      },
      "execution_count": 55,
      "outputs": []
    },
    {
      "cell_type": "code",
      "execution_count": 66,
      "metadata": {
        "colab": {
          "base_uri": "https://localhost:8080/"
        },
        "id": "bsE4uZCUqw4J",
        "outputId": "0dcd2cbc-8602-48d0-8018-0aaf7e9f240d"
      },
      "outputs": [
        {
          "output_type": "stream",
          "name": "stdout",
          "text": [
            "torch.Size([1248])\n",
            "0.04773095469124401\n",
            "[100] loss: 4.500 pace: 0.04374741090737444 data_size: 55\n",
            "0.02776018270669273\n"
          ]
        },
        {
          "output_type": "stream",
          "name": "stderr",
          "text": [
            "/usr/local/lib/python3.7/dist-packages/torch/nn/modules/loss.py:520: UserWarning: Using a target size (torch.Size([313])) that is different to the input size (torch.Size([313, 1])). This will likely lead to incorrect results due to broadcasting. Please ensure they have the same size.\n",
            "  return F.mse_loss(input, target, reduction=self.reduction)\n"
          ]
        },
        {
          "output_type": "stream",
          "name": "stdout",
          "text": [
            "0.016338250888422275\n",
            "[200] loss: 2.735 pace: 0.04832435801774127 data_size: 61\n",
            "0.010371987431194074\n",
            "0.009033977794951905\n",
            "[300] loss: 1.945 pace: 0.05338015506268935 data_size: 67\n",
            "0.008774870119917507\n",
            "0.00902567275415975\n",
            "[400] loss: 1.582 pace: 0.05896490034012758 data_size: 74\n",
            "0.008736305724317654\n",
            "0.008558169721414486\n",
            "[500] loss: 1.346 pace: 0.0651339335383716 data_size: 82\n",
            "0.008530162012996003\n",
            "0.008277659218151349\n",
            "[600] loss: 1.166 pace: 0.07194838410154819 data_size: 90\n",
            "0.007751825137641102\n",
            "0.00773172332836797\n",
            "[700] loss: 1.063 pace: 0.0794757769661539 data_size: 100\n",
            "0.007293778105665701\n",
            "0.007273390651130067\n",
            "[800] loss: 1.003 pace: 0.08779070167105979 data_size: 110\n",
            "0.007527483918796332\n",
            "0.007211170257470859\n",
            "[900] loss: 0.934 pace: 0.09697555147122706 data_size: 122\n",
            "0.007071870584457446\n",
            "0.007218386799382706\n",
            "[1000] loss: 0.885 pace: 0.10712133977907051 data_size: 134\n",
            "0.0073951623691156645\n",
            "0.00723415974991771\n",
            "[1100] loss: 0.844 pace: 0.1183286020236527 data_size: 148\n",
            "0.0070176284534100904\n",
            "0.006858970410526751\n",
            "[1200] loss: 0.803 pace: 0.13070839186430383 data_size: 164\n",
            "0.006746553384457914\n",
            "0.006655642780633018\n",
            "[1300] loss: 0.782 pace: 0.14438338163022793 data_size: 181\n",
            "0.006534545185466925\n",
            "0.005961505749735969\n",
            "[1400] loss: 0.754 pace: 0.15948907789043948 data_size: 200\n",
            "0.005779184472446624\n",
            "0.005739532720547514\n",
            "[1500] loss: 0.741 pace: 0.17617516419921037 data_size: 220\n",
            "0.005462538320035599\n",
            "0.0054406255197982055\n",
            "[1600] loss: 0.715 pace: 0.1946069843223997 data_size: 243\n",
            "0.005520813381329131\n",
            "0.004883829777994857\n",
            "[1700] loss: 0.690 pace: 0.21496718064207412 data_size: 269\n",
            "0.0048311944967641615\n",
            "0.004788453586566182\n",
            "[1800] loss: 0.671 pace: 0.23745750397450233 data_size: 297\n",
            "0.004699740927821151\n",
            "0.004960226174741508\n",
            "[1900] loss: 0.657 pace: 0.2623008127351544 data_size: 328\n",
            "0.004816900807828568\n",
            "0.004363422576611796\n",
            "[2000] loss: 0.648 pace: 0.2897432812605925 data_size: 362\n",
            "0.004337049901675874\n",
            "0.004138611756955473\n",
            "[2100] loss: 0.628 pace: 0.32005683916969213 data_size: 400\n",
            "0.004065528845253844\n",
            "0.004124566008107731\n",
            "[2200] loss: 0.612 pace: 0.3535418659360174 data_size: 442\n",
            "0.004235153000194805\n",
            "0.0034754169634736765\n",
            "[2300] loss: 0.596 pace: 0.3905301673720867 data_size: 488\n",
            "0.003856388905558723\n",
            "0.00426022427531477\n",
            "[2400] loss: 0.584 pace: 0.43138826351974785 data_size: 539\n",
            "0.0038393362642477114\n",
            "0.0036847743744286487\n",
            "[2500] loss: 0.568 pace: 0.4765210205266327 data_size: 595\n",
            "0.0037429553632157297\n",
            "0.00368039714642607\n",
            "[2600] loss: 0.559 pace: 0.5263756624972451 data_size: 657\n",
            "0.003988608003805239\n",
            "0.0033914612505001763\n",
            "[2700] loss: 0.545 pace: 0.5814462030724379 data_size: 726\n",
            "0.0033957291715823045\n",
            "0.003481267359310065\n",
            "[2800] loss: 0.542 pace: 0.6422783406501512 data_size: 802\n",
            "0.0037403773195065627\n",
            "0.003960011104425302\n",
            "[2900] loss: 0.538 pace: 0.7094748657545517 data_size: 886\n",
            "0.003727545753454629\n",
            "0.0030364011423275493\n",
            "[3000] loss: 0.529 pace: 0.783701634135622 data_size: 979\n",
            "0.0033551983939953886\n",
            "0.002710573970319364\n",
            "[3100] loss: 0.520 pace: 0.865694164787125 data_size: 1081\n",
            "0.002795701019299297\n",
            "0.0026617914723892945\n",
            "[3200] loss: 0.519 pace: 0.9562649282632316 data_size: 1194\n",
            "0.002500396186170487\n",
            "0.002537365157764179\n",
            "[3300] loss: 0.513 pace: 1 data_size: 1248\n",
            "0.0026540322044786933\n",
            "0.002470694601345367\n",
            "[3400] loss: 0.516 pace: 1 data_size: 1248\n",
            "0.00711373780101252\n",
            "0.002483179584478799\n",
            "[3500] loss: 0.517 pace: 1 data_size: 1248\n",
            "0.0021137145761483773\n",
            "0.0021528984411075093\n",
            "[3600] loss: 0.511 pace: 1 data_size: 1248\n",
            "0.0021317460285588956\n",
            "0.002462409746151763\n",
            "[3700] loss: 0.510 pace: 1 data_size: 1248\n",
            "0.002564398625407356\n",
            "0.002799385081464871\n",
            "[3800] loss: 0.504 pace: 1 data_size: 1248\n",
            "0.002295258898323717\n",
            "0.00249251409079701\n",
            "[3900] loss: 0.498 pace: 1 data_size: 1248\n",
            "0.0026916987218034154\n",
            "0.002643409628456774\n",
            "[4000] loss: 0.492 pace: 1 data_size: 1248\n",
            "0.0022740491662924284\n",
            "0.0022354204052934252\n",
            "[4100] loss: 0.487 pace: 1 data_size: 1248\n",
            "0.0025593905022349983\n",
            "0.0024813120357525613\n",
            "[4200] loss: 0.486 pace: 1 data_size: 1248\n",
            "0.0024692484745964076\n",
            "0.002737262949775964\n",
            "[4300] loss: 0.485 pace: 1 data_size: 1248\n",
            "0.002007256300685505\n",
            "0.0022899765556993576\n",
            "[4400] loss: 0.483 pace: 1 data_size: 1248\n",
            "0.002218904967506092\n",
            "0.002315987413302778\n",
            "[4500] loss: 0.479 pace: 1 data_size: 1248\n",
            "0.0027148224675236417\n",
            "0.002691251972612862\n",
            "[4600] loss: 0.475 pace: 1 data_size: 1248\n",
            "0.002331823015365357\n",
            "0.002438806497250883\n",
            "[4700] loss: 0.471 pace: 1 data_size: 1248\n",
            "0.0026235361449634684\n",
            "0.0024826463799887954\n",
            "[4800] loss: 0.466 pace: 1 data_size: 1248\n",
            "0.0022800892305831176\n",
            "0.0026408900468113325\n",
            "[4900] loss: 0.462 pace: 1 data_size: 1248\n",
            "0.00282053768444366\n",
            "0.002297486740941057\n",
            "[5000] loss: 0.459 pace: 1 data_size: 1248\n",
            "0.0028458351906115254\n",
            "0.0024032752734784502\n",
            "[5100] loss: 0.454 pace: 1 data_size: 1248\n",
            "0.0022644655773053153\n",
            "0.002260269257968988\n",
            "[5200] loss: 0.450 pace: 1 data_size: 1248\n",
            "0.0023455372252784218\n",
            "0.0024274661898993836\n",
            "[5300] loss: 0.448 pace: 1 data_size: 1248\n",
            "0.002491902809935256\n",
            "0.0024472553128251635\n",
            "[5400] loss: 0.444 pace: 1 data_size: 1248\n",
            "0.0023251640530059133\n",
            "0.002270199810734953\n",
            "[5500] loss: 0.444 pace: 1 data_size: 1248\n",
            "0.002220737667510304\n",
            "0.0024753530947164227\n",
            "[5600] loss: 0.441 pace: 1 data_size: 1248\n",
            "0.002312174429908728\n",
            "0.002245186045527839\n",
            "[5700] loss: 0.440 pace: 1 data_size: 1248\n",
            "0.002425092096907643\n",
            "0.0028610179980342\n",
            "[5800] loss: 0.437 pace: 1 data_size: 1248\n",
            "0.0024729077808392313\n",
            "0.002321185395359612\n",
            "[5900] loss: 0.433 pace: 1 data_size: 1248\n",
            "0.0025371471152138025\n",
            "0.002250812114618076\n",
            "[6000] loss: 0.429 pace: 1 data_size: 1248\n",
            "0.002254025052530697\n",
            "0.0023703637976235092\n",
            "[6100] loss: 0.426 pace: 1 data_size: 1248\n",
            "0.0023563955538569927\n",
            "0.0023738652372512574\n",
            "[6200] loss: 0.423 pace: 1 data_size: 1248\n",
            "0.0021875723482320864\n"
          ]
        }
      ],
      "source": [
        "from torch.utils.tensorboard import SummaryWriter\n",
        "tb = SummaryWriter()\n",
        "\n",
        "current_pace = 1\n",
        "total_correct = 0\n",
        "accuracy = 0\n",
        "running_num_samples = 0\n",
        "\n",
        "#Reinitialise\n",
        "#optimizer = optim.Adam(net.parameters(), lr=1e-2)\n",
        "\n",
        "# decayRate = 0.91\n",
        "# min_lr=1e-3\n",
        "# lr_batch_size = 400\n",
        "batch_increase = 10\n",
        "batch_size = 1\n",
        "increment = 1.01\n",
        "starting_percentage = 0.04\n",
        "\n",
        "metrics = {\"curriculum\": \"\", \"sample_size\": 0, \"train_accuracy\":[] , \"test_accuracy\":[], \"train_loss\":[], \"test_loss\":[], \"batch\":[]}\n",
        "\n",
        "metrics[\"curriculum\"] = regime\n",
        "\n",
        "\n",
        "#scheduler = torch.optim.lr_scheduler.StepLR(optimizer, step_size=lr_batch_size, gamma=decayRate)\n",
        "running_loss = 0.0\n",
        "for batch in range(5*len(X_train)):  # loop over the dataset multiple times\n",
        "\n",
        "    \n",
        "    X, y, current_pace = data_pacing_function(train_set, batch_increase, increment, starting_percentage, batch, current_pace, batch_size)\n",
        "    # get the inputs; data is a list of [inputs, labels]\n",
        "    inputs, labels = generate_random_batch(X, y, batch_size)\n",
        "\n",
        "    #print(\"label:\", labels)\n",
        "\n",
        "    inputs, labels = inputs.to(device).float(), labels.to(device).float()\n",
        "    labels = torch.unsqueeze(labels,1)\n",
        "\n",
        "    #print(inputs.shape, labels.shape)\n",
        "    # zero the parameter gradients\n",
        "    optimizer.zero_grad()\n",
        "\n",
        "    # forward + backward + optimize\n",
        "    outputs = net(inputs)\n",
        "\n",
        "    #print(\"preds:\", inputs, \"label:\", labels)\n",
        "    #print(\"outputs\", outputs.shape, labels.shape)\n",
        "    loss = criterion(outputs, labels)\n",
        "    total_correct += get_num_correct(outputs, labels)\n",
        "    loss.backward()\n",
        "    optimizer.step()\n",
        "    #\n",
        "    \n",
        "    # print statistics\n",
        "    running_loss += loss.item()\n",
        "    running_num_samples += len(labels)\n",
        "    #print(scheduler.get_last_lr())\n",
        "\n",
        "    # if scheduler.get_last_lr()[0] > min_lr:\n",
        "    #   scheduler.step()\n",
        "\n",
        "    #print(\"correct:\", total_correct)\n",
        "    if batch % 100 == 99:    # print every 2000 mini-batches\n",
        "      print(f'[{batch + 1}] loss: {running_loss/running_num_samples:.3f} pace: {current_pace} data_size: {len(y)}')\n",
        "    # losses.append(running_loss)\n",
        "    #     running_loss = 0.0\n",
        "    if batch % 50 == 49: \n",
        "      test_acc, test_loss = evaluate_model(test_img, test_labels, net)\n",
        "      print(test_loss)\n",
        "      tb.add_scalar(\"Loss\", running_loss/running_num_samples, batch)\n",
        "      tb.add_scalar(\"Percentage\", current_pace, batch)\n",
        "      tb.add_scalar(\"Correct\", total_correct, batch)\n",
        "      tb.add_scalar(\"Test_accuracy\", test_acc, batch)\n",
        "      tb.add_scalar(\"Accuracy\", total_correct/running_num_samples, batch)\n",
        "\n",
        "      metrics[\"train_accuracy\"].append(total_correct/running_num_samples)\n",
        "      metrics[\"train_loss\"].append(running_loss/running_num_samples)\n",
        "      metrics[\"test_accuracy\"].append(test_acc)\n",
        "      metrics[\"test_loss\"].append(test_loss)\n",
        "      metrics[\"batch\"].append(batch)\n",
        "\n",
        "results.append(metrics)\n",
        "\n",
        "      #print(test_acc)\n"
      ]
    },
    {
      "cell_type": "code",
      "execution_count": 67,
      "metadata": {
        "colab": {
          "base_uri": "https://localhost:8080/",
          "height": 552
        },
        "id": "XqH3OcLtYwgK",
        "outputId": "63a6f45f-c84a-42c5-c81c-905bf0bd2de9"
      },
      "outputs": [
        {
          "output_type": "stream",
          "name": "stdout",
          "text": [
            "124\n",
            "124\n",
            "124\n"
          ]
        },
        {
          "output_type": "display_data",
          "data": {
            "image/png": "[encoded data removed]",
            "text/plain": [
              "<Figure size 576x576 with 1 Axes>"
            ]
          },
          "metadata": {
            "needs_background": "light"
          }
        }
      ],
      "source": [
        "\n",
        "import matplotlib.pyplot as plt\n",
        "def plot_metrics(results):\n",
        "  for metrics in results:\n",
        "    curr = metrics[\"curriculum\"]\n",
        "    train_acc = metrics[\"train_accuracy\"]\n",
        "    test_acc = metrics[\"test_loss\"]\n",
        "    batch = metrics[\"batch\"]\n",
        "    print(len(test_acc))\n",
        "    plt.figure(2,figsize=(8, 8))\n",
        "    plt.plot(batch, test_acc, label = metrics[\"curriculum\"])\n",
        "    plt.legend(loc='best')\n",
        "    plt.ylabel('Test Loss')\n",
        "    plt.xlabel('Global rounds')\n",
        "  plt.show\n",
        "\n",
        "plot_metrics(results)"
      ]
    },
    {
      "cell_type": "code",
      "source": [
        ""
      ],
      "metadata": {
        "id": "eVBpb1sux3fd"
      },
      "execution_count": null,
      "outputs": []
    }
  ]
}