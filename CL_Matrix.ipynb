{
  "nbformat": 4,
  "nbformat_minor": 0,
  "metadata": {
    "colab": {
      "name": "CL_Matrix.ipynb",
      "provenance": [],
      "collapsed_sections": [],
      "authorship_tag": "ABX9TyOCVGaf6CyAzi4an/82oVlB",
      "include_colab_link": true
    },
    "kernelspec": {
      "name": "python3",
      "display_name": "Python 3"
    },
    "language_info": {
      "name": "python"
    },
    "accelerator": "GPU"
  },
  "cells": [
    {
      "cell_type": "markdown",
      "metadata": {
        "id": "view-in-github",
        "colab_type": "text"
      },
      "source": [
        "<a href=\"https://colab.research.google.com/github/euodiadodd1/Curriculum_Learning_For_Maths/blob/main/CL_Matrix.ipynb\" target=\"_parent\"><img src=\"https://colab.research.google.com/assets/colab-badge.svg\" alt=\"Open In Colab\"/></a>"
      ]
    },
    {
      "cell_type": "code",
      "execution_count": 5,
      "metadata": {
        "id": "H-0enkBRm53V"
      },
      "outputs": [],
      "source": [
        "import gzip\n",
        "import shutil\n",
        "with gzip.open('/content/v05.gz', 'rb') as f_in:\n",
        "    with open('v05.txt', 'wb') as f_out:\n",
        "        shutil.copyfileobj(f_in, f_out)"
      ]
    },
    {
      "cell_type": "code",
      "source": [
        "import pandas as pd\n",
        "import numpy as np\n",
        "\n",
        "df = pd.read_csv(\"v05.txt\", header=None)\n",
        "#df\n",
        "\n",
        "data = df\n",
        "#split = np.array_split(data[0], data.shape[0]//4)\n",
        "data = df[0].str.split('   ', expand=True)\n",
        "\n",
        "for i, x in enumerate(data[4]):\n",
        "    if x and len(x.split('  ')) > 1:\n",
        "      #print(x.split('  ')) \n",
        "      sl = [a for a in x.split('  ') if a]\n",
        "      if len(sl) > 1:\n",
        "        data[4][i] = sl[0]\n",
        "      else:\n",
        "        data[4][i] = sl[0]\n",
        "    if x and len(x.split(' ')) > 1:\n",
        "      #print(x.split('  ')) \n",
        "      sl = [a for a in x.split(' ') if a]\n",
        "      if len(sl) > 1:\n",
        "        data[4][i] = sl[0]\n",
        "      else:\n",
        "        data[4][i] = sl[0]\n",
        "\n",
        "for i, x in enumerate(data[3]):\n",
        "    if x and len(x.split(' ')) > 1:\n",
        "      #print(x.split('  ')) \n",
        "      sl = [a for a in x.split(' ') if a]\n",
        "      if len(sl) > 1:\n",
        "        data[3][i] = sl[0]\n",
        "        data[4][i] = sl[1]\n",
        "      else:\n",
        "        data[3][i] = sl[0]\n",
        "        \n",
        "for i, x in enumerate(data[2]):\n",
        "    if x and len(x.split('  ')) > 1:\n",
        "      print(i, x.split('  ')) \n",
        "      sl = [a for a in x.split('  ') if a]\n",
        "      if len(sl) > 1:\n",
        "        data[2][i] = sl[0]\n",
        "        data[3][i] = sl[1]\n",
        "\n",
        "\n",
        "\n",
        "        #data[4][i] = sl[1]\n",
        "\n",
        "\n",
        "\n",
        "data = data.drop(5, axis=1)\n",
        "data = data.drop(0, axis=1)\n",
        "\n",
        "\n",
        "for i, x in data.iterrows():\n",
        "  if i%5 == 0:\n",
        "    data = data.drop(i, axis=0)\n",
        "\n",
        "data = data.reset_index(drop=True)\n"
      ],
      "metadata": {
        "id": "9JY42826HPJW",
        "colab": {
          "base_uri": "https://localhost:8080/"
        },
        "outputId": "269041ed-0e11-4444-ab5d-a4123437077c"
      },
      "execution_count": 142,
      "outputs": [
        {
          "output_type": "stream",
          "name": "stdout",
          "text": [
            "38 ['0', '10']\n"
          ]
        }
      ]
    },
    {
      "cell_type": "code",
      "source": [
        "data\n",
        "split = np.split(data[:6244], data.shape[0]//4)\n",
        "arr = np.asarray([np.asarray(x).astype(int) for x in split])\n",
        "len(arr)"
      ],
      "metadata": {
        "colab": {
          "base_uri": "https://localhost:8080/"
        },
        "id": "YPjcpWSiZ5bm",
        "outputId": "7bff9dae-676d-48e9-a454-9d7189a745f9"
      },
      "execution_count": 148,
      "outputs": [
        {
          "output_type": "execute_result",
          "data": {
            "text/plain": [
              "1561"
            ]
          },
          "metadata": {},
          "execution_count": 148
        }
      ]
    },
    {
      "cell_type": "code",
      "source": [
        "import ast\n",
        "\n",
        "labels = df[1].dropna().reset_index(drop=True)\n",
        "print(labels)\n",
        "for i, x in enumerate(labels):\n",
        "  ls = x.split(' ')\n",
        "  labels[i] = int(ast.literal_eval(ls[1])[0])\n",
        "\n",
        "\n"
      ],
      "metadata": {
        "colab": {
          "base_uri": "https://localhost:8080/"
        },
        "id": "zFyi7siIMVDw",
        "outputId": "fb31af3d-ea30-4db9-f3ce-0c5588b05939"
      },
      "execution_count": 147,
      "outputs": [
        {
          "output_type": "stream",
          "name": "stdout",
          "text": [
            "0           1 [40]\n",
            "1         21 [-40]\n",
            "2          1 [200]\n",
            "3       101 [-200]\n",
            "4          1 [204]\n",
            "           ...    \n",
            "1556     167 [-96]\n",
            "1557     137 [240]\n",
            "1558    257 [-240]\n",
            "1559       143 [0]\n",
            "1560       251 [0]\n",
            "Name: 1, Length: 1561, dtype: object\n"
          ]
        }
      ]
    },
    {
      "cell_type": "code",
      "execution_count": null,
      "metadata": {
        "id": "Mm1Kn9YMaPc1"
      },
      "outputs": [],
      "source": [
        "import torch\n",
        "import torchvision\n",
        "import torchvision.transforms as transforms\n",
        "import numpy as np\n",
        "from torch.utils.data import Dataset, DataLoader\n",
        "from sklearn import svm\n",
        "from sklearn import metrics\n"
      ]
    },
    {
      "cell_type": "code",
      "source": [
        "from torch.utils.data import Dataset\n",
        "from natsort import natsorted\n",
        "from torchvision import datasets, transforms\n",
        "from sklearn.decomposition import PCA\n",
        "from sklearn import preprocessing\n",
        "\n",
        "class CustomDataset(Dataset):\n",
        "  def __init__(self, data, sizes):\n",
        "    self.data = data\n",
        "    self.sizes = sizes\n",
        "    self.transform = transforms.Compose([transforms.ToTensor()])\n",
        "\n",
        "    #self.transform = transforms.Compose([transforms.ToTensor()])\n",
        "\n",
        "  def __len__(self):\n",
        "    return len(self.data)\n",
        "\n",
        "  def __getitem__(self, idx):\n",
        "    data = np.asarray(self.data[idx])\n",
        "    #print(data.shape)\n",
        "    labels = np.asarray(data.trace())\n",
        "    # pca = PCA(n_components=2)\n",
        "    # for i in range(len(data)):\n",
        "    #data = np.asarray(data)\n",
        "      #print(data[i].shape)\n",
        "\n",
        "\n",
        "    if idx == self.__len__():  \n",
        "            raise IndexError  \n",
        "    #print(d.shape,l.shape)\n",
        "    return data, labels, self.sizes\n"
      ],
      "metadata": {
        "id": "eIAHB0dxPiZW"
      },
      "execution_count": null,
      "outputs": []
    },
    {
      "cell_type": "code",
      "source": [
        "import numpy as np\n",
        "from sklearn.ensemble import RandomForestRegressor\n",
        "\n",
        "def to_shape(a, shape):\n",
        "    y_, x_ = shape\n",
        "    y, x = a.shape\n",
        "    y_pad = (y_-y)\n",
        "    x_pad = (x_-x)\n",
        "    return np.pad(a,((y_pad//2, y_pad//2 + y_pad%2), \n",
        "                     (x_pad//2, x_pad//2 + x_pad%2)),\n",
        "                  mode = 'constant')\n",
        "\n",
        "\n",
        "num_samples = 5000\n",
        "matrices = []\n",
        "matrix_sizes = [25,50,100]\n",
        "matrix_2  = np.random.uniform(-1.0, 1.0, (num_samples,matrix_sizes[0],matrix_sizes[0]))\n",
        "matrix_5  = np.random.uniform(-1.0, 1.0, (num_samples,matrix_sizes[1],matrix_sizes[1]))\n",
        "matrix_10 = np.random.uniform(-1.0, 1.0, (num_samples,matrix_sizes[2],matrix_sizes[2]))\n",
        "\n",
        "#print(matrix_2[0].shape)\n",
        "matrix_2 = [to_shape(x, (matrix_sizes[2],matrix_sizes[2])) for x in matrix_2]\n",
        "matrix_5 = [to_shape(x, (matrix_sizes[2],matrix_sizes[2])) for x in matrix_5]\n",
        "\n",
        "matrices.append(matrix_2)\n",
        "matrices.append(matrix_5)\n",
        "matrices.append(matrix_10)\n",
        "\n",
        "sizes = np.concatenate([[i]*num_samples for i in matrix_sizes])\n",
        "#print(sizes)\n",
        "# labels = np.asarray([np.linalg.det(x) for x in [y for y in matrices]])\n",
        "# print(labels[0].shape)\n",
        "# regr = RandomForestRegressor(max_depth=3, random_state=0)\n",
        "# regr.fit(matri, labels)\n",
        "matrices = np.concatenate(matrices)\n",
        "print(matrices.shape)\n",
        "BATCH_SIZE = len(matrices)\n",
        "\n",
        "labels = np.asarray([np.linalg.eig(m)[0] for m in matrices])\n",
        "print(labels.shape)\n",
        "# trainset = CustomDataset(data = matrices, sizes = sizes)\n",
        "# trainloader = torch.utils.data.DataLoader(trainset, batch_size=BATCH_SIZE ,\n",
        "#                                           shuffle=False)\n"
      ],
      "metadata": {
        "id": "gnb88TUaNWN_",
        "colab": {
          "base_uri": "https://localhost:8080/"
        },
        "outputId": "463bea20-3904-47e7-ef70-50861194dea0"
      },
      "execution_count": null,
      "outputs": [
        {
          "output_type": "stream",
          "name": "stdout",
          "text": [
            "(15000, 100, 100)\n",
            "(15000, 100)\n"
          ]
        }
      ]
    },
    {
      "cell_type": "code",
      "execution_count": null,
      "metadata": {
        "id": "0Cr5bdOxaav-"
      },
      "outputs": [],
      "source": [
        "class DatasetMaker(Dataset):\n",
        "    def __init__(self, datasets):\n",
        "        \"\"\"\n",
        "        datasets: a list of get_class_i outputs, i.e. a list of list of images for selected classes\n",
        "        \"\"\"\n",
        "        self.datasets = datasets\n",
        "        self.lengths = [len(d) for d in self.datasets]\n",
        "        #self.transformFunc = transformFunc\n",
        "\n",
        "    def __getitem__(self, i):\n",
        "        class_label, index_wrt_class = self.index_of_which_bin(self.lengths, i)\n",
        "        img = self.datasets[class_label][index_wrt_class]\n",
        "        #img = self.transformFunc(img)\n",
        "        return img, class_label\n",
        "\n",
        "    def __len__(self):\n",
        "        return sum(self.lengths)\n",
        "\n",
        "    def index_of_which_bin(self, bin_sizes, absolute_index, verbose=False):\n",
        "        \"\"\"\n",
        "        Given the absolute index, returns which bin it falls in and which element of that bin it corresponds to.\n",
        "        \"\"\"\n",
        "        # Which class/bin does i fall into?\n",
        "        accum = np.add.accumulate(bin_sizes)\n",
        "        if verbose:\n",
        "            print(\"accum =\", accum)\n",
        "        bin_index = len(np.argwhere(accum <= absolute_index))\n",
        "        if verbose:\n",
        "            print(\"class_label =\", bin_index)\n",
        "        # Which element of the fallent class/bin does i correspond to?\n",
        "        index_wrt_class = absolute_index - np.insert(accum, 0, 0)[bin_index]\n",
        "        if verbose:\n",
        "            print(\"index_wrt_class =\", index_wrt_class)\n",
        "\n",
        "        return bin_index, index_wrt_class\n"
      ]
    },
    {
      "cell_type": "code",
      "execution_count": null,
      "metadata": {
        "id": "u6bGLddsaVc3",
        "colab": {
          "base_uri": "https://localhost:8080/"
        },
        "outputId": "cbdad51f-a3bc-4485-e318-ba506f81dbdf"
      },
      "outputs": [
        {
          "output_type": "stream",
          "name": "stdout",
          "text": [
            "3000\n"
          ]
        }
      ],
      "source": [
        "## Adapted from https://gist.github.com/Miladiouss/6ba0876f0e2b65d0178be7274f61ad2f\n",
        "# Separating trainset/testset data/label\n",
        "\n",
        "split = 0.8\n",
        "split_idx = int(split*len(labels))\n",
        "x_train, y_train, sizes_train = matrices[:split_idx], labels[:split_idx], sizes[:split_idx]\n",
        "x_test, y_test, sizes_test = matrices[split_idx:], labels[split_idx:], sizes[split_idx:]\n",
        "\n",
        "print(len(sizes_test))\n",
        "#x_test = testset.data\n",
        "#y_test = testset.targets\n",
        "#print(trainset[0])\n",
        "# Define a function to separate CIFAR classes by class index\n",
        "\n",
        "\n",
        "def get_class_i(x, y, i):\n",
        "    \"\"\"\n",
        "    x: trainset.train_data or testset.test_data\n",
        "    y: trainset.train_labels or testset.test_labels\n",
        "    i: class label, a number between 0 to 9\n",
        "    return: x_i\n",
        "    \"\"\"\n",
        "    # Convert to a numpy array\n",
        "    y = np.array(y)\n",
        "    # Locate position of labels that equal to i\n",
        "    pos_i = np.argwhere(y == i)\n",
        "    #print(pos_i)\n",
        "    # Convert the result into a 1-D list\n",
        "    pos_i = list(pos_i[:, 0])\n",
        "    # Collect all data that match the desired label\n",
        "    #print(len(pos_i))\n",
        "    x_i = [x[j] for j in pos_i]\n",
        "\n",
        "\n",
        "    return x_i\n",
        "\n"
      ]
    },
    {
      "cell_type": "code",
      "execution_count": null,
      "metadata": {
        "id": "U4_juvtTqXuL"
      },
      "outputs": [],
      "source": [
        "def get_sized_datasets(matrix_sizes, sizes_train, sizes_test):\n",
        "  \n",
        "  train = []\n",
        "  test = []\n",
        "  for s in matrix_sizes:\n",
        "    print(s)\n",
        "    train.append(get_class_i(x_train, sizes_train, s))\n",
        "    test.append(get_class_i(x_test, sizes_test, s))\n",
        "\n",
        "  trainset = DatasetMaker(train)\n",
        "  testset = DatasetMaker(test)\n",
        "\n",
        "  # Create datasetLoaders from trainset and testset\n",
        "  trainloader = DataLoader(\n",
        "      trainset, batch_size=len(trainset), shuffle=False)\n",
        "  testloader = DataLoader(\n",
        "      testset, batch_size=len(testset), shuffle=False)\n",
        "  \n",
        "  return trainloader, testloader"
      ]
    },
    {
      "cell_type": "code",
      "execution_count": null,
      "metadata": {
        "id": "xle_NwivPB3b"
      },
      "outputs": [],
      "source": [
        "import torch\n",
        "import torch.nn as nn\n",
        "import torch.nn.functional as F\n",
        "\n",
        "# Hyperparameters for our network\n",
        "\n",
        "# Build a feed-forward network\n",
        "def make_model(input_size, hidden_sizes):\n",
        "    model = nn.Sequential(#nn.Flatten(),\n",
        "                          \n",
        "                          nn.Linear(input_size, hidden_sizes[0]),\n",
        "                          nn.ReLU(),\n",
        "                          # nn.Linear(hidden_sizes[0], hidden_sizes[1]),\n",
        "                          # nn.ReLU(),\n",
        "                          nn.Flatten(),\n",
        "                          nn.Linear(800, 1)\n",
        "                          \n",
        "                      )\n",
        "    return model\n",
        "                      "
      ]
    },
    {
      "cell_type": "code",
      "execution_count": null,
      "metadata": {
        "id": "Tjj3r0es8C6a"
      },
      "outputs": [],
      "source": [
        "## Pacing function\n",
        "\n",
        "def data_pacing_function(data_set, batch_increase, increment, starting_percentage, curr_batch, current_pace, batch_size=100):\n",
        "\n",
        "    X_train, y_train = data_set\n",
        "    X_train = torch.unsqueeze(X_train, 1)\n",
        "    #y_train = torch.unsqueeze(y_train, 0)\n",
        "    #print(\"SHAPE\", X_train.shape)\n",
        "    \n",
        "    data_size = X_train.shape[0]\n",
        "    pace = current_pace\n",
        "\n",
        "    if curr_batch % batch_increase == 0:\n",
        "      if curr_batch == 0:\n",
        "        pace = starting_percentage\n",
        "        print(y_train.shape)\n",
        "      else:\n",
        "        pace = min(pace*increment, 1)\n",
        "\n",
        "    pacing_idx = int(np.ceil(pace * data_size))\n",
        "    #print(pacing_idx)\n",
        "\n",
        "    new_X_train = X_train[:pacing_idx, :,:,:]\n",
        "    new_y_train = y_train[:pacing_idx]\n",
        "\n",
        "    return new_X_train, new_y_train, pace\n",
        "\n"
      ]
    },
    {
      "cell_type": "code",
      "execution_count": null,
      "metadata": {
        "id": "QSo-3DbdRTKD"
      },
      "outputs": [],
      "source": [
        "def get_num_correct(preds, labels):\n",
        "    return preds.argmax(dim=1).eq(labels).sum().item()"
      ]
    },
    {
      "cell_type": "code",
      "execution_count": null,
      "metadata": {
        "id": "xW0lNto6MTkM"
      },
      "outputs": [],
      "source": [
        "np.random.seed(1)\n",
        "def generate_random_batch(x, y, batch_size):\n",
        "    size_data = x.shape[0]\n",
        "    cur_batch_idxs = np.random.choice(size_data, batch_size, replace=False)\n",
        "    return x[cur_batch_idxs, :, :, :], y[cur_batch_idxs]"
      ]
    },
    {
      "cell_type": "code",
      "execution_count": null,
      "metadata": {
        "id": "PCtFA7LgnWEV"
      },
      "outputs": [],
      "source": [
        "def evaluate_model(X_img, y_test, model):\n",
        "  accuracy = 0\n",
        "  model.eval()\n",
        "  X_img, y_test = X_img, y_test\n",
        "  with torch.no_grad():\n",
        "    outputs = model(X_img)\n",
        "    #accuracy = get_num_correct(outputs, y_test)/len(y_test)\n",
        "    loss = criterion(outputs, y_test).item()\n",
        "  model.train()\n",
        "  return accuracy, loss/len(y_test)\n"
      ]
    },
    {
      "cell_type": "code",
      "execution_count": null,
      "metadata": {
        "id": "CVnk49HPJECL"
      },
      "outputs": [],
      "source": [
        "import torch.optim as optim\n",
        "from torch.optim.lr_scheduler import LambdaLR\n",
        "\n",
        "#net = make_model((batch_size,3,32,32), 100)\n",
        "net = make_model(100, [8,16,32])\n",
        "\n",
        "device = torch.device('cuda:0' if torch.cuda.is_available() else 'cpu')\n",
        "\n",
        "net.to(device)\n",
        "\n",
        "criterion = nn.MSELoss()\n",
        "optimizer = optim.SGD(net.parameters(), lr=1e-2)\n",
        "\n",
        "decayRate = 0.91\n",
        "min_lr=1e-3\n",
        "lr_batch_size = 100\n",
        "\n",
        "#scheduler = torch.optim.lr_scheduler.StepLR(optimizer, step_size=lr_batch_size, gamma=decayRate)"
      ]
    },
    {
      "cell_type": "code",
      "source": [
        "from random import sample\n",
        "\n",
        "regime = \"anti\"\n",
        "if regime == \"curriculum\":\n",
        "  order = matrix_sizes\n",
        "elif regime == \"anti\":\n",
        "  order = matrix_sizes[::-1]\n",
        "else:\n",
        "  order = sample(matrix_sizes, len(matrix_sizes))\n",
        "\n",
        "print(order)\n",
        "trainloader, testloader = get_sized_datasets(order, sizes_train, sizes_test)\n"
      ],
      "metadata": {
        "colab": {
          "base_uri": "https://localhost:8080/"
        },
        "id": "OQkE4shDVGeV",
        "outputId": "59d10f84-60eb-42fe-9bea-03b3ab58e302"
      },
      "execution_count": null,
      "outputs": [
        {
          "output_type": "stream",
          "name": "stdout",
          "text": [
            "[100, 50, 25]\n",
            "100\n",
            "50\n",
            "25\n"
          ]
        }
      ]
    },
    {
      "cell_type": "code",
      "source": [
        "train_set = next(iter(trainloader))\n",
        "test_set = next(iter(testloader))\n",
        "\n",
        "X_train, y_train = train_set\n",
        "test_img, test_labels = test_set\n",
        "test_img, test_labels = test_img.to(device).float(), test_labels.to(device).float()\n",
        "#print(X_train.shape[0])"
      ],
      "metadata": {
        "id": "5kmzlPdnoSlc"
      },
      "execution_count": null,
      "outputs": []
    },
    {
      "cell_type": "code",
      "source": [
        "results = []\n"
      ],
      "metadata": {
        "id": "sqhKRwc-PBKt"
      },
      "execution_count": null,
      "outputs": []
    },
    {
      "cell_type": "code",
      "execution_count": null,
      "metadata": {
        "id": "uuETuqeJSP8A",
        "colab": {
          "base_uri": "https://localhost:8080/"
        },
        "outputId": "4cfed42d-603d-49a9-b9ea-544172e99763"
      },
      "outputs": [
        {
          "output_type": "stream",
          "name": "stdout",
          "text": [
            "The tensorboard extension is already loaded. To reload it, use:\n",
            "  %reload_ext tensorboard\n"
          ]
        }
      ],
      "source": [
        "%load_ext tensorboard"
      ]
    },
    {
      "cell_type": "code",
      "execution_count": null,
      "metadata": {
        "colab": {
          "base_uri": "https://localhost:8080/"
        },
        "id": "bsE4uZCUqw4J",
        "outputId": "d62e78ec-d4ac-47dc-a8b1-d19de85602f9"
      },
      "outputs": [
        {
          "output_type": "stream",
          "name": "stdout",
          "text": [
            "torch.Size([12000])\n",
            "3.5866893207033475e-06\n",
            "[100] loss: 0.013 pace: 0.04183642316580258 data_size: 503\n",
            "3.4008193761110304e-06\n",
            "3.3465856686234476e-06\n"
          ]
        },
        {
          "output_type": "stream",
          "name": "stderr",
          "text": [
            "/usr/local/lib/python3.7/dist-packages/torch/nn/modules/loss.py:520: UserWarning: Using a target size (torch.Size([3000])) that is different to the input size (torch.Size([3000, 1])). This will likely lead to incorrect results due to broadcasting. Please ensure they have the same size.\n",
            "  return F.mse_loss(input, target, reduction=self.reduction)\n"
          ]
        },
        {
          "output_type": "stream",
          "name": "stdout",
          "text": [
            "[200] loss: 0.010 pace: 0.04397594337061607 data_size: 528\n",
            "3.1469411527117094e-06\n",
            "2.930932678282261e-06\n",
            "[300] loss: 0.009 pace: 0.046224878921207656 data_size: 555\n",
            "3.0828329424063363e-06\n",
            "2.837303715447585e-06\n",
            "[400] loss: 0.008 pace: 0.048588825332807714 data_size: 584\n",
            "2.676017271975676e-06\n",
            "2.5120267334083717e-06\n",
            "[500] loss: 0.007 pace: 0.05107366427603437 data_size: 613\n",
            "2.776813693344593e-06\n",
            "2.4639057616392772e-06\n",
            "[600] loss: 0.007 pace: 0.05368557821091773 data_size: 645\n",
            "2.2630654275417327e-06\n",
            "2.3084399290382864e-06\n",
            "[700] loss: 0.007 pace: 0.05643106576931021 data_size: 678\n",
            "2.100817238291105e-06\n",
            "2.341296058148146e-06\n",
            "[800] loss: 0.006 pace: 0.05931695792395521 data_size: 712\n",
            "2.099855337291956e-06\n",
            "1.9363430328667165e-06\n",
            "[900] loss: 0.006 pace: 0.06235043498444424 data_size: 749\n",
            "1.9718526552120844e-06\n",
            "1.8200511112809182e-06\n",
            "[1000] loss: 0.006 pace: 0.06553904446234937 data_size: 787\n",
            "1.7514882298807303e-06\n",
            "1.7026741988956929e-06\n",
            "[1100] loss: 0.005 pace: 0.06889071984998109 data_size: 827\n",
            "1.6856730605165164e-06\n",
            "1.723907111833493e-06\n",
            "[1200] loss: 0.005 pace: 0.07241380035949416 data_size: 869\n",
            "1.6065440140664578e-06\n",
            "1.704948488622904e-06\n",
            "[1300] loss: 0.005 pace: 0.07611705167145405 data_size: 914\n",
            "1.5426171012222766e-06\n",
            "1.4481061759094398e-06\n",
            "[1400] loss: 0.005 pace: 0.08000968774448783 data_size: 961\n",
            "1.3969000428915025e-06\n",
            "1.4201692926386992e-06\n",
            "[1500] loss: 0.005 pace: 0.08410139374028328 data_size: 1010\n",
            "1.3213309769829115e-06\n",
            "1.301619845132033e-06\n",
            "[1600] loss: 0.005 pace: 0.0884023501209758 data_size: 1061\n",
            "1.2649251148104667e-06\n",
            "1.4312490820884704e-06\n",
            "[1700] loss: 0.004 pace: 0.09292325797887861 data_size: 1116\n",
            "1.244056737050414e-06\n",
            "1.195739411438505e-06\n",
            "[1800] loss: 0.004 pace: 0.09767536566157883 data_size: 1173\n",
            "1.181313069537282e-06\n",
            "1.3391373989482722e-06\n",
            "[1900] loss: 0.004 pace: 0.10267049675864437 data_size: 1233\n",
            "1.1333569418638944e-06\n",
            "1.1156663143386444e-06\n",
            "[2000] loss: 0.004 pace: 0.1079210795195749 data_size: 1296\n",
            "1.1087767779827118e-06\n",
            "1.067890397583445e-06\n",
            "[2100] loss: 0.004 pace: 0.1134401777761905 data_size: 1362\n",
            "1.2655749451369047e-06\n",
            "1.0164755706985792e-06\n",
            "[2200] loss: 0.004 pace: 0.11924152344639553 data_size: 1431\n",
            "1.0154656289766232e-06\n",
            "1.4015302682916323e-06\n",
            "[2300] loss: 0.004 pace: 0.1253395507001891 data_size: 1505\n",
            "9.545597713440656e-07\n",
            "1.1647467035800219e-06\n",
            "[2400] loss: 0.004 pace: 0.13174943187292998 data_size: 1581\n",
            "1.2766653671860695e-06\n",
            "9.603653258333604e-07\n",
            "[2500] loss: 0.003 pace: 0.13848711521521065 data_size: 1662\n",
            "8.7248378743728e-07\n",
            "8.807772149642309e-07\n",
            "[2600] loss: 0.003 pace: 0.14556936457326458 data_size: 1747\n",
            "8.243237777302662e-07\n",
            "7.898454399158558e-07\n",
            "[2700] loss: 0.003 pace: 0.15301380109863522 data_size: 1837\n",
            "8.336604417612155e-07\n",
            "7.628479506820441e-07\n",
            "[2800] loss: 0.003 pace: 0.16083894709088253 data_size: 1931\n",
            "7.851253418872754e-07\n",
            "7.244766845057408e-07\n",
            "[2900] loss: 0.004 pace: 0.16906427208241187 data_size: 2029\n",
            "7.304541456202666e-07\n",
            "2.597652841359377e-06\n",
            "[3000] loss: 0.005 pace: 0.17771024128008636 data_size: 2133\n",
            "1.2106487217048804e-06\n",
            "1.3779010623693466e-06\n",
            "[3100] loss: 0.007 pace: 0.18679836648415055 data_size: 2242\n",
            "1.7032078467309474e-06\n",
            "1.9515518409510455e-06\n",
            "[3200] loss: 0.008 pace: 0.19635125961115382 data_size: 2357\n",
            "2.6092218856016793e-06\n",
            "6.632653996348381e-06\n",
            "[3300] loss: 0.009 pace: 0.20639268895404356 data_size: 2477\n",
            "4.110020895799001e-06\n",
            "4.734617657959461e-06\n",
            "[3400] loss: 0.009 pace: 0.2169476383194069 data_size: 2604\n",
            "4.686878683666389e-06\n",
            "6.962093835075696e-06\n",
            "[3500] loss: 0.009 pace: 0.22804236918899887 data_size: 2737\n",
            "4.791708973546823e-06\n",
            "4.668037717541059e-06\n",
            "[3600] loss: 0.009 pace: 0.2397044860602187 data_size: 2877\n",
            "4.457587997118632e-06\n",
            "6.253284712632497e-06\n",
            "[3700] loss: 0.009 pace: 0.25196300512810793 data_size: 3024\n",
            "4.559927309552829e-06\n",
            "4.5922050873438515e-06\n",
            "[3800] loss: 0.009 pace: 0.2648484264797535 data_size: 3179\n",
            "5.394789079825083e-06\n",
            "4.394688022633394e-06\n",
            "[3900] loss: 0.009 pace: 0.27839280998072335 data_size: 3341\n",
            "5.3175091743469235e-06\n",
            "4.308181504408518e-06\n",
            "[4000] loss: 0.009 pace: 0.2926298550423441 data_size: 3512\n",
            "4.690174944698811e-06\n",
            "4.512061985830466e-06\n",
            "[4100] loss: 0.009 pace: 0.3075949844682867 data_size: 3692\n",
            "4.239123625059923e-06\n",
            "3.998443484306336e-06\n",
            "[4200] loss: 0.009 pace: 0.3233254325890794 data_size: 3880\n",
            "3.9764059086640675e-06\n",
            "4.208428474764029e-06\n",
            "[4300] loss: 0.009 pace: 0.33986033790383036 data_size: 4079\n",
            "3.968667238950729e-06\n",
            "4.82553585122029e-06\n",
            "[4400] loss: 0.009 pace: 0.35724084045965954 data_size: 4287\n",
            "4.428705510993799e-06\n",
            "3.7570729230841e-06\n",
            "[4500] loss: 0.009 pace: 0.37551018421112914 data_size: 4507\n",
            "3.745111326376597e-06\n",
            "3.9869143317143125e-06\n",
            "[4600] loss: 0.009 pace: 0.39471382461434745 data_size: 4737\n",
            "4.134842815498511e-06\n",
            "3.602735698223114e-06\n",
            "[4700] loss: 0.009 pace: 0.4148995417234501 data_size: 4979\n",
            "3.599816933274269e-06\n",
            "3.723434793452422e-06\n",
            "[4800] loss: 0.009 pace: 0.4361175590708504 data_size: 5234\n",
            "4.102751302222411e-06\n",
            "4.544426687061787e-06\n",
            "[4900] loss: 0.008 pace: 0.45842066862704056 data_size: 5502\n",
            "3.54781374335289e-06\n",
            "3.433836003144582e-06\n",
            "[5000] loss: 0.008 pace: 0.48186436215085443 data_size: 5783\n",
            "3.369572882850965e-06\n",
            "3.3385356267293294e-06\n",
            "[5100] loss: 0.008 pace: 0.506506969257 data_size: 6079\n",
            "3.2483385875821113e-06\n",
            "3.186037763953209e-06\n",
            "[5200] loss: 0.008 pace: 0.5324098025443831 data_size: 6389\n",
            "4.0253872672716775e-06\n",
            "3.1328552092115085e-06\n",
            "[5300] loss: 0.008 pace: 0.5596373101463135 data_size: 6716\n",
            "4.598537149528662e-06\n",
            "3.702933589617411e-06\n",
            "[5400] loss: 0.008 pace: 0.5882572360821482 data_size: 7060\n",
            "3.106355977555116e-06\n",
            "3.125036135315895e-06\n",
            "[5500] loss: 0.009 pace: 0.6183407888093391 data_size: 7421\n",
            "3.950309008359909e-06\n",
            "3.4187861407796543e-06\n",
            "[5600] loss: 0.011 pace: 0.6499628183952547 data_size: 7800\n",
            "7.2407480329275135e-06\n",
            "6.298217301567395e-06\n",
            "[5700] loss: 0.013 pace: 0.6832020027495915 data_size: 8199\n",
            "3.631738635400931e-06\n",
            "6.166075045863787e-06\n",
            "[5800] loss: 0.014 pace: 0.7181410433807375 data_size: 8618\n",
            "4.595338366925717e-06\n",
            "5.409866571426392e-06\n",
            "[5900] loss: 0.016 pace: 0.7548668711631389 data_size: 9059\n",
            "5.602939054369926e-06\n",
            "1.347930853565534e-05\n",
            "[6000] loss: 0.016 pace: 0.7934708626276396 data_size: 9522\n",
            "1.0255131249626477e-05\n",
            "7.531839112440745e-06\n",
            "[6100] loss: 0.017 pace: 0.8340490673129362 data_size: 10009\n",
            "7.667157799005509e-06\n",
            "1.1445115009943644e-05\n",
            "[6200] loss: 0.017 pace: 0.8767024467438173 data_size: 10521\n",
            "1.4972331623236338e-05\n",
            "8.529049654801686e-06\n",
            "[6300] loss: 0.016 pace: 0.9215371256307794 data_size: 11059\n",
            "8.184719209869702e-06\n",
            "1.4233108609914779e-05\n",
            "[6400] loss: 0.016 pace: 0.9686646559160271 data_size: 11624\n",
            "8.21759986380736e-06\n",
            "1.0480618725220362e-05\n",
            "[6500] loss: 0.016 pace: 1 data_size: 12000\n",
            "8.097417031725248e-06\n",
            "8.854607741038005e-06\n",
            "[6600] loss: 0.016 pace: 1 data_size: 12000\n",
            "7.956274474660556e-06\n",
            "1.0454058647155761e-05\n",
            "[6700] loss: 0.016 pace: 1 data_size: 12000\n",
            "7.960883900523185e-06\n",
            "7.72043007115523e-06\n",
            "[6800] loss: 0.016 pace: 1 data_size: 12000\n",
            "7.973358035087585e-06\n",
            "8.136531338095665e-06\n",
            "[6900] loss: 0.016 pace: 1 data_size: 12000\n",
            "7.427798584103584e-06\n",
            "7.31742133696874e-06\n",
            "[7000] loss: 0.016 pace: 1 data_size: 12000\n",
            "1.1424786100784938e-05\n",
            "7.195080940922101e-06\n",
            "[7100] loss: 0.016 pace: 1 data_size: 12000\n",
            "7.142046466469765e-06\n",
            "7.322095334529877e-06\n",
            "[7200] loss: 0.016 pace: 1 data_size: 12000\n",
            "7.833012690146764e-06\n",
            "7.864804317553838e-06\n",
            "[7300] loss: 0.016 pace: 1 data_size: 12000\n",
            "8.422850941618284e-06\n",
            "1.1358673373858133e-05\n",
            "[7400] loss: 0.016 pace: 1 data_size: 12000\n",
            "8.092459912101427e-06\n",
            "7.037899767359098e-06\n",
            "[7500] loss: 0.016 pace: 1 data_size: 12000\n",
            "7.079459726810455e-06\n",
            "8.775567015012105e-06\n",
            "[7600] loss: 0.015 pace: 1 data_size: 12000\n",
            "6.961149473985036e-06\n",
            "6.965267782409986e-06\n",
            "[7700] loss: 0.015 pace: 1 data_size: 12000\n",
            "7.658318306008975e-06\n",
            "7.994044572114945e-06\n",
            "[7800] loss: 0.015 pace: 1 data_size: 12000\n",
            "8.595127612352372e-06\n",
            "6.943189849456152e-06\n",
            "[7900] loss: 0.015 pace: 1 data_size: 12000\n",
            "6.840536991755168e-06\n",
            "7.6054086287816365e-06\n",
            "[8000] loss: 0.015 pace: 1 data_size: 12000\n",
            "7.261533911029498e-06\n",
            "7.70154781639576e-06\n",
            "[8100] loss: 0.015 pace: 1 data_size: 12000\n",
            "6.712771952152252e-06\n",
            "1.1758394539356231e-05\n",
            "[8200] loss: 0.015 pace: 1 data_size: 12000\n",
            "6.82110774020354e-06\n",
            "6.678763156135877e-06\n",
            "[8300] loss: 0.015 pace: 1 data_size: 12000\n",
            "9.321963414549827e-06\n",
            "6.858406588435173e-06\n",
            "[8400] loss: 0.015 pace: 1 data_size: 12000\n",
            "7.6293175419171655e-06\n",
            "7.4629653245210645e-06\n",
            "[8500] loss: 0.015 pace: 1 data_size: 12000\n",
            "7.046168049176534e-06\n",
            "8.957874650756518e-06\n",
            "[8600] loss: 0.015 pace: 1 data_size: 12000\n",
            "6.594220176339149e-06\n",
            "7.927553107341131e-06\n",
            "[8700] loss: 0.015 pace: 1 data_size: 12000\n",
            "7.331802199284235e-06\n",
            "6.556715195377668e-06\n",
            "[8800] loss: 0.015 pace: 1 data_size: 12000\n",
            "7.062423974275589e-06\n",
            "6.3989249368508654e-06\n",
            "[8900] loss: 0.014 pace: 1 data_size: 12000\n",
            "6.302937865257263e-06\n",
            "6.743767609198888e-06\n",
            "[9000] loss: 0.014 pace: 1 data_size: 12000\n",
            "8.54733462134997e-06\n",
            "6.296996648112933e-06\n",
            "[9100] loss: 0.014 pace: 1 data_size: 12000\n",
            "7.73233671983083e-06\n",
            "6.31113350391388e-06\n",
            "[9200] loss: 0.014 pace: 1 data_size: 12000\n",
            "6.426048154632251e-06\n",
            "7.283131902416547e-06\n",
            "[9300] loss: 0.014 pace: 1 data_size: 12000\n",
            "6.105115016301473e-06\n",
            "6.104132160544395e-06\n",
            "[9400] loss: 0.014 pace: 1 data_size: 12000\n",
            "7.708090667923291e-06\n",
            "7.263112813234329e-06\n",
            "[9500] loss: 0.014 pace: 1 data_size: 12000\n",
            "6.087712943553924e-06\n",
            "6.3352640718221665e-06\n",
            "[9600] loss: 0.014 pace: 1 data_size: 12000\n",
            "7.432964319984118e-06\n",
            "7.381723572810491e-06\n",
            "[9700] loss: 0.014 pace: 1 data_size: 12000\n",
            "6.32070874174436e-06\n",
            "6.334678580363592e-06\n",
            "[9800] loss: 0.014 pace: 1 data_size: 12000\n",
            "8.643525342146556e-06\n",
            "1.0041415691375733e-05\n",
            "[9900] loss: 0.014 pace: 1 data_size: 12000\n",
            "8.142363280057907e-06\n",
            "6.525428344806035e-06\n",
            "[10000] loss: 0.014 pace: 1 data_size: 12000\n",
            "6.732339039444923e-06\n",
            "6.339737524588903e-06\n",
            "[10100] loss: 0.013 pace: 1 data_size: 12000\n",
            "6.097488726178805e-06\n",
            "5.858079840739568e-06\n",
            "[10200] loss: 0.013 pace: 1 data_size: 12000\n",
            "5.9137561668952304e-06\n",
            "1.1040399471918742e-05\n",
            "[10300] loss: 0.013 pace: 1 data_size: 12000\n",
            "5.729849760731061e-06\n",
            "5.729261164863905e-06\n",
            "[10400] loss: 0.013 pace: 1 data_size: 12000\n",
            "5.631507684787114e-06\n",
            "5.610760922233264e-06\n",
            "[10500] loss: 0.013 pace: 1 data_size: 12000\n",
            "5.72459710141023e-06\n",
            "7.710731277863185e-06\n",
            "[10600] loss: 0.013 pace: 1 data_size: 12000\n",
            "5.517317603031794e-06\n",
            "7.167517518003782e-06\n",
            "[10700] loss: 0.013 pace: 1 data_size: 12000\n",
            "5.561503271261851e-06\n",
            "5.493049820264181e-06\n",
            "[10800] loss: 0.013 pace: 1 data_size: 12000\n",
            "9.191526100039481e-06\n",
            "5.532663315534592e-06\n",
            "[10900] loss: 0.013 pace: 1 data_size: 12000\n",
            "7.05460583170255e-06\n",
            "5.2993949502706526e-06\n",
            "[11000] loss: 0.013 pace: 1 data_size: 12000\n",
            "5.278034135699272e-06\n",
            "7.90107622742653e-06\n",
            "[11100] loss: 0.013 pace: 1 data_size: 12000\n",
            "6.173354263106982e-06\n",
            "5.327389265100161e-06\n",
            "[11200] loss: 0.013 pace: 1 data_size: 12000\n",
            "8.143943424026172e-06\n",
            "7.074356699983279e-06\n",
            "[11300] loss: 0.013 pace: 1 data_size: 12000\n",
            "5.1973750814795495e-06\n",
            "5.34165712694327e-06\n",
            "[11400] loss: 0.013 pace: 1 data_size: 12000\n",
            "5.456301073233286e-06\n",
            "5.141131579875946e-06\n",
            "[11500] loss: 0.013 pace: 1 data_size: 12000\n",
            "6.3090020169814424e-06\n",
            "5.125654550890128e-06\n",
            "[11600] loss: 0.012 pace: 1 data_size: 12000\n",
            "6.588714818159739e-06\n",
            "5.283030370871226e-06\n",
            "[11700] loss: 0.012 pace: 1 data_size: 12000\n",
            "5.1531863088409105e-06\n",
            "5.092117004096508e-06\n",
            "[11800] loss: 0.012 pace: 1 data_size: 12000\n",
            "5.091016801695029e-06\n",
            "5.6615273157755535e-06\n",
            "[11900] loss: 0.012 pace: 1 data_size: 12000\n",
            "5.125987343490124e-06\n",
            "5.465167264143626e-06\n",
            "[12000] loss: 0.012 pace: 1 data_size: 12000\n",
            "8.402395993471146e-06\n"
          ]
        }
      ],
      "source": [
        "from torch.utils.tensorboard import SummaryWriter\n",
        "tb = SummaryWriter()\n",
        "\n",
        "current_pace = 1\n",
        "total_correct = 0\n",
        "accuracy = 0\n",
        "running_num_samples = 0\n",
        "\n",
        "#Reinitialise\n",
        "#optimizer = optim.Adam(net.parameters(), lr=1e-2)\n",
        "\n",
        "# decayRate = 0.91\n",
        "# min_lr=1e-3\n",
        "# lr_batch_size = 400\n",
        "batch_increase = 10\n",
        "batch_size = 1\n",
        "increment = 1.005\n",
        "starting_percentage = 0.04\n",
        "\n",
        "metrics = {\"curriculum\": \"\", \"sample_size\": 0, \"train_accuracy\":[] , \"test_accuracy\":[], \"train_loss\":[], \"test_loss\":[], \"batch\":[]}\n",
        "\n",
        "metrics[\"curriculum\"] = regime\n",
        "\n",
        "\n",
        "#scheduler = torch.optim.lr_scheduler.StepLR(optimizer, step_size=lr_batch_size, gamma=decayRate)\n",
        "running_loss = 0.0\n",
        "for batch in range(len(X_train)):  # loop over the dataset multiple times\n",
        "\n",
        "    \n",
        "    X, y, current_pace = data_pacing_function(train_set, batch_increase, increment, starting_percentage, batch, current_pace, batch_size)\n",
        "    # get the inputs; data is a list of [inputs, labels]\n",
        "    inputs, labels = generate_random_batch(X, y, batch_size)\n",
        "\n",
        "    #print(\"label:\", labels)\n",
        "\n",
        "    inputs, labels = inputs.to(device).float(), labels.to(device).float()\n",
        "    labels = torch.unsqueeze(labels,1)\n",
        "\n",
        "    # zero the parameter gradients\n",
        "    optimizer.zero_grad()\n",
        "\n",
        "    # forward + backward + optimize\n",
        "    outputs = net(inputs)\n",
        "\n",
        "    #print(\"preds:\", inputs, \"label:\", labels)\n",
        "    #print(\"outputs\", outputs.shape)\n",
        "    loss = criterion(outputs, labels)\n",
        "    total_correct += get_num_correct(outputs, labels)\n",
        "    loss.backward()\n",
        "    optimizer.step()\n",
        "    #\n",
        "    \n",
        "    # print statistics\n",
        "    running_loss += loss.item()\n",
        "    running_num_samples += len(labels)\n",
        "    #print(scheduler.get_last_lr())\n",
        "\n",
        "    # if scheduler.get_last_lr()[0] > min_lr:\n",
        "    #   scheduler.step()\n",
        "\n",
        "    #print(\"correct:\", total_correct)\n",
        "    if batch % 100 == 99:    # print every 2000 mini-batches\n",
        "      print(f'[{batch + 1}] loss: {running_loss/running_num_samples:.3f} pace: {current_pace} data_size: {len(y)}')\n",
        "    # losses.append(running_loss)\n",
        "    #     running_loss = 0.0\n",
        "    if batch % 50 == 49: \n",
        "      test_acc, test_loss = evaluate_model(test_img, test_labels, net)\n",
        "      print(test_loss)\n",
        "      tb.add_scalar(\"Loss\", running_loss/running_num_samples, batch)\n",
        "      tb.add_scalar(\"Percentage\", current_pace, batch)\n",
        "      tb.add_scalar(\"Correct\", total_correct, batch)\n",
        "      tb.add_scalar(\"Test_accuracy\", test_acc, batch)\n",
        "      tb.add_scalar(\"Accuracy\", total_correct/running_num_samples, batch)\n",
        "\n",
        "      metrics[\"train_accuracy\"].append(total_correct/running_num_samples)\n",
        "      metrics[\"train_loss\"].append(running_loss)\n",
        "      metrics[\"test_accuracy\"].append(test_acc)\n",
        "      metrics[\"test_loss\"].append(test_loss)\n",
        "      metrics[\"batch\"].append(batch)\n",
        "\n",
        "results.append(metrics)\n",
        "\n",
        "      #print(test_acc)\n"
      ]
    },
    {
      "cell_type": "code",
      "execution_count": null,
      "metadata": {
        "colab": {
          "base_uri": "https://localhost:8080/",
          "height": 549
        },
        "id": "XqH3OcLtYwgK",
        "outputId": "45c7a30e-fb22-4f12-db71-80586e4d2631"
      },
      "outputs": [
        {
          "output_type": "stream",
          "name": "stdout",
          "text": [
            "240\n",
            "240\n",
            "240\n"
          ]
        },
        {
          "output_type": "display_data",
          "data": {
            "image/png": "[encoded data removed]",
            "text/plain": [
              "<Figure size 576x576 with 1 Axes>"
            ]
          },
          "metadata": {
            "needs_background": "light"
          }
        }
      ],
      "source": [
        "\n",
        "import matplotlib.pyplot as plt\n",
        "def plot_metrics(results):\n",
        "  for metrics in results:\n",
        "    curr = metrics[\"curriculum\"]\n",
        "    train_acc = metrics[\"train_accuracy\"]\n",
        "    test_acc = metrics[\"test_loss\"]\n",
        "    batch = metrics[\"batch\"]\n",
        "    print(len(test_acc))\n",
        "    plt.figure(2,figsize=(8, 8))\n",
        "    plt.plot(batch, test_acc, label = metrics[\"curriculum\"])\n",
        "    plt.legend(loc='best')\n",
        "    plt.ylabel('Test Loss')\n",
        "    plt.xlabel('Global rounds')\n",
        "  plt.show\n",
        "\n",
        "plot_metrics(results)"
      ]
    },
    {
      "cell_type": "code",
      "source": [
        ""
      ],
      "metadata": {
        "id": "eVBpb1sux3fd"
      },
      "execution_count": null,
      "outputs": []
    }
  ]
}